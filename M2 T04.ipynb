{
 "cells": [
  {
   "cell_type": "markdown",
   "id": "0b20fbd3",
   "metadata": {},
   "source": [
    "- Exercici 4\n",
    "\n",
    "Crea un diccionari de la següent forma i respon a les preguntes:\n",
    "compra = { \"Pomes\" : {\"Qty\": 5, \"€\": 0.42}, \"Peres\" : {\"Qty\": 3, \"€\": 0.66} }\n",
    "\n",
    "    Afegeix alguna fruita més\n",
    "\n"
   ]
  },
  {
   "cell_type": "code",
   "execution_count": 1,
   "id": "26b68a8f",
   "metadata": {},
   "outputs": [
    {
     "name": "stdout",
     "output_type": "stream",
     "text": [
      "{'Pomes': {'Qty': 5, '€': 0.42}, 'Peres': {'Qty': 3, '€': 0.66}, 'Taronges': {'Qty': 4, '€': 0.2}}\n"
     ]
    }
   ],
   "source": [
    "compra = { \"Pomes\" : {\"Qty\": 5, \"€\": 0.42}, \"Peres\" : {\"Qty\": 3, \"€\": 0.66} }\n",
    "compra[\"Taronges\"] = {\"Qty\": 4, \"€\": 0.20}\n",
    "print(compra)"
   ]
  },
  {
   "cell_type": "markdown",
   "id": "3bd2802f",
   "metadata": {},
   "source": [
    "- Exercici 4\n",
    "\n",
    "Crea un diccionari de la següent forma i respon a les preguntes:\n",
    "compra={'Pomes': {'Qty': 5, '€': 0.42}, 'Peres': {'Qty': 3, '€': 0.66}, 'Taronges': {'Qty': 4, '€': 0.2}}\n",
    "\n",
    "    Quant han costat les peres en total?\n",
    "\n"
   ]
  },
  {
   "cell_type": "code",
   "execution_count": 2,
   "id": "2e8c726b",
   "metadata": {},
   "outputs": [
    {
     "name": "stdout",
     "output_type": "stream",
     "text": [
      "Hem comprat 3 peres\n",
      "El preu de cada pere ha estat de 0.66\n",
      "El cost total de les peres ha estat de 1.98\n"
     ]
    }
   ],
   "source": [
    "total_peres = (compra[\"Peres\"][\"Qty\"])\n",
    "preu_peres = (compra[\"Peres\"][\"€\"])\n",
    "cost_peres = total_peres * preu_peres\n",
    "print('Hem comprat',total_peres, 'peres')\n",
    "print('El preu de cada pere ha estat de',preu_peres)\n",
    "print('El cost total de les peres ha estat de',cost_peres)"
   ]
  },
  {
   "cell_type": "markdown",
   "id": "5c2d7bfd",
   "metadata": {},
   "source": [
    "- Exercici 4\n",
    "\n",
    "Crea un diccionari de la següent forma i respon a les preguntes:\n",
    "\n",
    "    Quantes fruites hem comprat en total?\n"
   ]
  },
  {
   "cell_type": "code",
   "execution_count": 3,
   "id": "52a6443d",
   "metadata": {},
   "outputs": [
    {
     "name": "stdout",
     "output_type": "stream",
     "text": [
      "Hem comprat 5 pomes\n",
      "Hem comprat 3 peres\n",
      "Hem comprat 4 taronges\n",
      "En total hem comprat 12 peçes de fruita\n"
     ]
    }
   ],
   "source": [
    "total_pomes = (compra[\"Pomes\"][\"Qty\"])\n",
    "total_peres = (compra[\"Peres\"][\"Qty\"])\n",
    "total_taronges = (compra[\"Taronges\"][\"Qty\"])\n",
    "total_total = total_pomes + total_peres + total_taronges\n",
    "print('Hem comprat',total_pomes, 'pomes')\n",
    "print('Hem comprat',total_peres, 'peres')\n",
    "print('Hem comprat',total_taronges, 'taronges')\n",
    "print('En total hem comprat', total_total,'peçes de fruita')"
   ]
  },
  {
   "cell_type": "markdown",
   "id": "f5d7beaf",
   "metadata": {},
   "source": [
    "- Exercici 4\n",
    "\n",
    "Crea un diccionari de la següent forma i respon a les preguntes:\n",
    "\n",
    "\n",
    "    Quina és la fruita més cara?\n"
   ]
  },
  {
   "cell_type": "code",
   "execution_count": 4,
   "id": "051b50b2",
   "metadata": {},
   "outputs": [
    {
     "name": "stdout",
     "output_type": "stream",
     "text": [
      "Les fruites son  ['Pomes', 'Peres', 'Taronges']\n",
      "i els seus preus [0.42, 0.66, 0.2]\n",
      "El preu màxim està la posició 1 que correspons a Peres\n"
     ]
    }
   ],
   "source": [
    "ll_preus =[] # preparo les llistes\n",
    "ll_fruita =[]\n",
    "for d in compra.values(): # faig la llista dels preus\n",
    "    # print(d['€'])\n",
    "    ll_preus.append(d['€']) \n",
    "\n",
    "for d in compra.keys(): #faig la llista de les fruites\n",
    "    # print(d)\n",
    "    ll_fruita.append(d)\n",
    "\n",
    "print('Les fruites son ',ll_fruita) # mostra la llista de totes les fruites\n",
    "print('i els seus preus',ll_preus) # mostra la llista de tots els preus   \n",
    "\n",
    "index_preus = ll_preus.index(max(ll_preus)) # aqui calculo el preu máxim de totes les fruites\n",
    "\n",
    "print('El preu màxim està la posició',index_preus, \n",
    "      'que correspons a',ll_fruita[index_preus]) # e voilà"
   ]
  },
  {
   "cell_type": "code",
   "execution_count": null,
   "id": "b03c68d9",
   "metadata": {},
   "outputs": [],
   "source": []
  }
 ],
 "metadata": {
  "kernelspec": {
   "display_name": "Python 3 (ipykernel)",
   "language": "python",
   "name": "python3"
  },
  "language_info": {
   "codemirror_mode": {
    "name": "ipython",
    "version": 3
   },
   "file_extension": ".py",
   "mimetype": "text/x-python",
   "name": "python",
   "nbconvert_exporter": "python",
   "pygments_lexer": "ipython3",
   "version": "3.9.7"
  }
 },
 "nbformat": 4,
 "nbformat_minor": 5
}
