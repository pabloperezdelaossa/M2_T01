{
 "cells": [
  {
   "cell_type": "markdown",
   "id": "78411c71",
   "metadata": {},
   "source": [
    "- Exercici 3\n",
    "\n",
    "Crea una llista amb nombres desordenats i respon a les següents preguntes:\n",
    "\n",
    "    Quants números hi ha?\n",
    "    Quantes vegades apareix el número 3.\n",
    "    Quantes vegades apareixen els nombres 3 i 4?\n",
    "    Quin és el número més gran?\n",
    "    Quins són els 3 números més petits?\n",
    "    Quin és el rang d’aquesta llista?\n"
   ]
  },
  {
   "cell_type": "markdown",
   "id": "c8c5b929",
   "metadata": {},
   "source": [
    "- Exercici 3\n",
    "\n",
    "Crea una llista amb nombres desordenats i respon a les següents preguntes:\n",
    "\n",
    "    Quants números hi ha?\n"
   ]
  },
  {
   "cell_type": "code",
   "execution_count": 8,
   "id": "7fa5acef",
   "metadata": {},
   "outputs": [
    {
     "name": "stdout",
     "output_type": "stream",
     "text": [
      "La llista hauria tenir aquest elements:  19\n",
      "El numero total d'elements es  19\n",
      "La meva llista es:  [6, 6, 1, 0, 4, 3, 6, 6, 1, 4, 7, 2, 5, 4, 2, 3, 3, 1, 3]\n"
     ]
    }
   ],
   "source": [
    "from random import randrange\n",
    "llarg_llista = randrange(10,20)\n",
    "my_list =[]\n",
    "contador = 0\n",
    "while contador < llarg_llista:\n",
    "    nou_element = randrange(0,10)\n",
    "    my_list.append(randrange (0,10))\n",
    "    contador += 1\n",
    "print('La llista hauria tenir aquest elements: ', llarg_llista)\n",
    "print('El numero total d\\'elements es ', len(my_list))\n",
    "print('La meva llista es: ', my_list)"
   ]
  },
  {
   "cell_type": "markdown",
   "id": "200a3fce",
   "metadata": {},
   "source": [
    "- Exercici 3\n",
    "\n",
    "Crea una llista amb nombres desordenats i respon a les següents preguntes:\n",
    "\n",
    "    Quantes vegades apareix el número 3.\n",
    "\n"
   ]
  },
  {
   "cell_type": "code",
   "execution_count": 12,
   "id": "0ca3f6a8",
   "metadata": {},
   "outputs": [
    {
     "name": "stdout",
     "output_type": "stream",
     "text": [
      "el numero de tressos es:  4\n"
     ]
    }
   ],
   "source": [
    "count_tres = 0\n",
    "for tressos in my_list:\n",
    "    if tressos == 3:\n",
    "        count_tres += 1\n",
    "print('el numero de tressos es: ', count_tres)"
   ]
  },
  {
   "cell_type": "markdown",
   "id": "0a1c1547",
   "metadata": {},
   "source": [
    "- Exercici 3\n",
    "\n",
    "Crea una llista amb nombres desordenats i respon a les següents preguntes:\n",
    "\n",
    "\n",
    "    Quantes vegades apareixen els nombres 3 i 4?\n",
    "\n"
   ]
  },
  {
   "cell_type": "code",
   "execution_count": 15,
   "id": "a5554391",
   "metadata": {},
   "outputs": [
    {
     "name": "stdout",
     "output_type": "stream",
     "text": [
      "el numero de tressos i cuatres es:  7\n"
     ]
    }
   ],
   "source": [
    "count_tres_cuatre = 0\n",
    "for tresicuatre in my_list:\n",
    "    if tresicuatre == 3 or tresicuatre == 4:\n",
    "        count_tres_cuatre += 1\n",
    "print('el numero de tressos i cuatres es: ', count_tres_cuatre)"
   ]
  },
  {
   "cell_type": "markdown",
   "id": "edd1df1b",
   "metadata": {},
   "source": [
    "- Exercici 3\n",
    "\n",
    "Crea una llista amb nombres desordenats i respon a les següents preguntes:\n",
    "\n",
    "    Quin és el número més gran?\n",
    "\n"
   ]
  },
  {
   "cell_type": "code",
   "execution_count": 16,
   "id": "721690bd",
   "metadata": {},
   "outputs": [
    {
     "name": "stdout",
     "output_type": "stream",
     "text": [
      "El número més gran es:  7\n"
     ]
    }
   ],
   "source": [
    "# ordenem el numero de la llista per ordre ascendent\n",
    "my_list.sort()\n",
    " \n",
    "# demano l'ultim element de la llista\n",
    "print(\"El número més gran es: \", my_list[-1])"
   ]
  },
  {
   "cell_type": "markdown",
   "id": "be0d73da",
   "metadata": {},
   "source": [
    "- Exercici 3\n",
    "\n",
    "Crea una llista amb nombres desordenats i respon a les següents preguntes:\n",
    "\n",
    "    Quins són els 3 números més petits?\n"
   ]
  },
  {
   "cell_type": "code",
   "execution_count": 21,
   "id": "4ce2cd9c",
   "metadata": {},
   "outputs": [
    {
     "name": "stdout",
     "output_type": "stream",
     "text": [
      "El tres número mes petits son:  [0, 1, 1]\n"
     ]
    }
   ],
   "source": [
    "# demano l'ultim element de la llista\n",
    "print(\"El tres número mes petits son: \", my_list[0:3])"
   ]
  },
  {
   "cell_type": "markdown",
   "id": "fb2beda7",
   "metadata": {},
   "source": [
    "- Exercici 3\n",
    "\n",
    "Crea una llista amb nombres desordenats i respon a les següents preguntes:\n",
    "\n",
    "    Quin és el rang d’aquesta llista?\n"
   ]
  },
  {
   "cell_type": "code",
   "execution_count": 24,
   "id": "d73bf1b5",
   "metadata": {},
   "outputs": [
    {
     "name": "stdout",
     "output_type": "stream",
     "text": [
      "El valor minim es:  0\n",
      "El valor màxim es:  7\n",
      "El rang de les dades va de:  0  a  7\n"
     ]
    }
   ],
   "source": [
    "min_val = min(my_list)\n",
    "max_val = max(my_list)\n",
    "print('El valor minim es: ', min_val)\n",
    "print('El valor màxim es: ', max_val)\n",
    "print('El rang de les dades va de: ', min_val,' a ', max_val)"
   ]
  },
  {
   "cell_type": "code",
   "execution_count": null,
   "id": "49dc8162",
   "metadata": {},
   "outputs": [],
   "source": []
  }
 ],
 "metadata": {
  "kernelspec": {
   "display_name": "Python 3 (ipykernel)",
   "language": "python",
   "name": "python3"
  },
  "language_info": {
   "codemirror_mode": {
    "name": "ipython",
    "version": 3
   },
   "file_extension": ".py",
   "mimetype": "text/x-python",
   "name": "python",
   "nbconvert_exporter": "python",
   "pygments_lexer": "ipython3",
   "version": "3.9.7"
  }
 },
 "nbformat": 4,
 "nbformat_minor": 5
}
