{
 "cells": [
  {
   "cell_type": "markdown",
   "id": "c85183dc",
   "metadata": {},
   "source": [
    "- Exercici 2\n",
    "\n",
    "Crea un codi que et permeti accedir a:\n",
    "\n",
    "    El segon mes del primer trimestre."
   ]
  },
  {
   "cell_type": "code",
   "execution_count": 1,
   "id": "8e87f02f",
   "metadata": {},
   "outputs": [
    {
     "name": "stdout",
     "output_type": "stream",
     "text": [
      "febrer\n"
     ]
    }
   ],
   "source": [
    "any = [['gener', 'febrer', 'març'], ['abril', 'maig','juny'], ['juliol','agost','setembre'], ['octubre', 'novembre','decembre']]\n",
    "print(any[0][1])"
   ]
  },
  {
   "cell_type": "markdown",
   "id": "be084d22",
   "metadata": {},
   "source": [
    "- Exercici 2\n",
    "\n",
    "Crea un codi que et permeti accedir a:\n",
    "\n",
    "    Els mesos del primer trimestre.\n"
   ]
  },
  {
   "cell_type": "code",
   "execution_count": 2,
   "id": "cd65f82e",
   "metadata": {},
   "outputs": [
    {
     "name": "stdout",
     "output_type": "stream",
     "text": [
      "['gener', 'febrer', 'març']\n"
     ]
    }
   ],
   "source": [
    "print(any[0])"
   ]
  },
  {
   "cell_type": "markdown",
   "id": "b3a990f0",
   "metadata": {},
   "source": [
    "- Exercici 2\n",
    "\n",
    "Crea un codi que et permeti accedir a:\n",
    "\n",
    "    Setembre i octubre."
   ]
  },
  {
   "cell_type": "code",
   "execution_count": 3,
   "id": "5f711401",
   "metadata": {},
   "outputs": [
    {
     "name": "stdout",
     "output_type": "stream",
     "text": [
      "setembre  i  octubre\n"
     ]
    }
   ],
   "source": [
    "print(any[2][2], ' i ', any[3][0])"
   ]
  },
  {
   "cell_type": "code",
   "execution_count": null,
   "id": "d8c57e42",
   "metadata": {},
   "outputs": [],
   "source": []
  }
 ],
 "metadata": {
  "kernelspec": {
   "display_name": "Python 3 (ipykernel)",
   "language": "python",
   "name": "python3"
  },
  "language_info": {
   "codemirror_mode": {
    "name": "ipython",
    "version": 3
   },
   "file_extension": ".py",
   "mimetype": "text/x-python",
   "name": "python",
   "nbconvert_exporter": "python",
   "pygments_lexer": "ipython3",
   "version": "3.9.7"
  }
 },
 "nbformat": 4,
 "nbformat_minor": 5
}
