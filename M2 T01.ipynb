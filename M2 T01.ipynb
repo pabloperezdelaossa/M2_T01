{
 "cells": [
  {
   "cell_type": "markdown",
   "id": "7bad0e9f",
   "metadata": {},
   "source": [
    "Exercici M2 T01\n",
    "\n",
    "Crea una llista que agrupi els mesos de l’any en trimestres (1T: gener, febrer i març; 2T: abril, maig, juny...), és a dir, una llista amb 4 llistes dins."
   ]
  },
  {
   "cell_type": "code",
   "execution_count": 6,
   "id": "f57b9d04",
   "metadata": {},
   "outputs": [
    {
     "name": "stdout",
     "output_type": "stream",
     "text": [
      "[['gener', 'febrer', 'març'], ['abril', 'maig', 'juny'], ['juliol', 'agost', 'setembre'], ['octubre', 'novembre', 'decembre']]\n"
     ]
    }
   ],
   "source": [
    "any = [['gener', 'febrer', 'març'], ['abril', 'maig','juny'], ['juliol','agost','setembre'], ['octubre', 'novembre','decembre']]\n",
    "print(any)"
   ]
  },
  {
   "cell_type": "code",
   "execution_count": null,
   "id": "4af13dc8",
   "metadata": {},
   "outputs": [],
   "source": []
  }
 ],
 "metadata": {
  "kernelspec": {
   "display_name": "Python 3 (ipykernel)",
   "language": "python",
   "name": "python3"
  },
  "language_info": {
   "codemirror_mode": {
    "name": "ipython",
    "version": 3
   },
   "file_extension": ".py",
   "mimetype": "text/x-python",
   "name": "python",
   "nbconvert_exporter": "python",
   "pygments_lexer": "ipython3",
   "version": "3.9.7"
  }
 },
 "nbformat": 4,
 "nbformat_minor": 5
}
